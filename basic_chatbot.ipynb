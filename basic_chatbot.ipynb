{
 "cells": [
  {
   "cell_type": "markdown",
   "id": "a4b9a6e7",
   "metadata": {},
   "source": [
    "### Build a basic chatbot with langgraph (graph api)"
   ]
  },
  {
   "cell_type": "code",
   "execution_count": 1,
   "id": "73a1f7ed",
   "metadata": {},
   "outputs": [],
   "source": [
    "from typing import Annotated #Used to add meta data which will imporove readablity and maintainablity \n",
    "\n",
    "from typing_extensions import TypedDict\n",
    "\n",
    "from langgraph.graph import StateGraph,START,END\n",
    "from langgraph.graph.message import add_messages #Reducers which will add messages into a variable we define with out replacing already existing messages"
   ]
  },
  {
   "cell_type": "code",
   "execution_count": 2,
   "id": "4452d232",
   "metadata": {},
   "outputs": [],
   "source": [
    "class State(TypedDict):\n",
    "    \"\"\"Messages have the type 'list'. The 'add message' function in the annotation defines how this state should be \n",
    "    updated (in this case, it appends messages to the list, rather than overwriting them) \"\"\"\n",
    "    messages:Annotated[list,add_messages]\n",
    "\n"
   ]
  },
  {
   "cell_type": "code",
   "execution_count": 7,
   "id": "eb03ab93",
   "metadata": {},
   "outputs": [
    {
     "data": {
      "text/plain": [
       "True"
      ]
     },
     "execution_count": 7,
     "metadata": {},
     "output_type": "execute_result"
    }
   ],
   "source": [
    "import os\n",
    "from dotenv import load_dotenv #Used to store api keys in the .env and file and used to import those in \n",
    "load_dotenv()"
   ]
  },
  {
   "cell_type": "code",
   "execution_count": 8,
   "id": "677afea3",
   "metadata": {},
   "outputs": [],
   "source": [
    "\n",
    "from langchain.chat_models import init_chat_model\n",
    "llm = init_chat_model(\"groq:llama3-8b-8192\")\n"
   ]
  },
  {
   "cell_type": "code",
   "execution_count": 11,
   "id": "a36179fe",
   "metadata": {},
   "outputs": [],
   "source": [
    "## Node functionality\n",
    "def chatbot(state:State):\n",
    "    return {\"messages\":[llm.invoke(state[\"messages\"])]}"
   ]
  },
  {
   "cell_type": "code",
   "execution_count": 12,
   "id": "2d213993",
   "metadata": {},
   "outputs": [],
   "source": [
    "graph_builder=StateGraph(State)\n",
    "\n",
    "##Adding node to the graph\n",
    "graph_builder.add_node(\"llmchatbot\",chatbot)\n",
    "##Adding edge to the graph\n",
    "graph_builder.add_edge(START,\"llmchatbot\")\n",
    "graph_builder.add_edge(\"llmchatbot\",END)\n",
    "\n",
    "##Compile the graph\n",
    "graph=graph_builder.compile()"
   ]
  },
  {
   "cell_type": "code",
   "execution_count": 13,
   "id": "b054fb18",
   "metadata": {},
   "outputs": [
    {
     "data": {
      "image/png": "[encoded data removed]",
      "text/plain": [
       "<IPython.core.display.Image object>"
      ]
     },
     "metadata": {},
     "output_type": "display_data"
    }
   ],
   "source": [
    "from IPython.display import Image, display\n",
    "\n",
    "try:\n",
    "    display(Image(graph.get_graph().draw_mermaid_png()))\n",
    "except Exception:\n",
    "    pass\n"
   ]
  },
  {
   "cell_type": "code",
   "execution_count": 14,
   "id": "2fae3d91",
   "metadata": {},
   "outputs": [
    {
     "data": {
      "text/plain": [
       "{'messages': [HumanMessage(content='Hi', additional_kwargs={}, response_metadata={}, id='0bda8452-1ba4-48be-8936-ffb44bc7ebf9'),\n",
       "  AIMessage(content=\"Hi! It's nice to meet you. Is there something I can help you with or would you like to chat?\", additional_kwargs={}, response_metadata={'token_usage': {'completion_tokens': 25, 'prompt_tokens': 11, 'total_tokens': 36, 'completion_time': 0.017566296, 'prompt_time': 0.001670837, 'queue_time': 0.268226748, 'total_time': 0.019237133}, 'model_name': 'llama3-8b-8192', 'system_fingerprint': 'fp_0fb809dba3', 'service_tier': 'on_demand', 'finish_reason': 'stop', 'logprobs': None}, id='run--722b000b-3a06-43ec-88c8-c3f8e6065927-0', usage_metadata={'input_tokens': 11, 'output_tokens': 25, 'total_tokens': 36})]}"
      ]
     },
     "execution_count": 14,
     "metadata": {},
     "output_type": "execute_result"
    }
   ],
   "source": [
    "graph.invoke({\"messages\":\"Hi\"})"
   ]
  },
  {
   "cell_type": "code",
   "execution_count": 15,
   "id": "f1417f00",
   "metadata": {},
   "outputs": [
    {
     "data": {
      "text/plain": [
       "{'messages': [HumanMessage(content='Which is the best ipl team?', additional_kwargs={}, response_metadata={}, id='ed692683-b928-4b97-96d8-92cbb434d6ae'),\n",
       "  AIMessage(content='A question that sparks debate and passion among cricket fans!\\n\\nThe Indian Premier League (IPL) has been a thrilling competition since its inception in 2008. While opinions may vary, here are some facts and statistics to help you decide:\\n\\n**Most successful teams:**\\n\\n1. Mumbai Indians (MI) - 5 titles (2013, 2015, 2017, 2019, 2020)\\n2. Chennai Super Kings (CSK) - 4 titles (2010, 2011, 2018, 2021)\\n3. Kolkata Knight Riders (KKR) - 2 titles (2012, 2014)\\n\\n**Recent form:**\\n\\n1. Mumbai Indians - Consistent performers, with a strong squad and a good balance of youth and experience.\\n2. Delhi Capitals (DC) - Showed impressive growth in the last two seasons, reaching the playoffs and finishing as runners-up in 2020.\\n3. Kolkata Knight Riders - Had a strong run in the 2020 season, but struggled in the 2021 season.\\n\\n**Team strength and depth:**\\n\\n1. Mumbai Indians - Strong squad with a good mix of experienced players like Rohit Sharma, Hardik Pandya, and Kieron Pollard, along with young talents like Ishan Kishan and Suryakumar Yadav.\\n2. Royal Challengers Bangalore (RCB) - Have a talented squad with players like Virat Kohli, AB de Villiers, and Yuzvendra Chahal, but often struggle to convert their potential into titles.\\n3. Sunrisers Hyderabad (SRH) - Have a well-balanced team with players like David Warner, Jonny Bairstow, and Bhuvneshwar Kumar, but have struggled in recent seasons.\\n\\n**Ultimately, the \"best\" team is subjective and depends on individual opinions.**\\n\\nIf you consider recent form and team strength, Mumbai Indians might be a good choice. If you look at overall success, Chennai Super Kings have a strong case. If you think about emerging teams with potential, Delhi Capitals or Sunrisers Hyderabad might be the way to go.\\n\\nWhich team do you support?', additional_kwargs={}, response_metadata={'token_usage': {'completion_tokens': 444, 'prompt_tokens': 18, 'total_tokens': 462, 'completion_time': 0.311843507, 'prompt_time': 0.003524587, 'queue_time': 0.265391893, 'total_time': 0.315368094}, 'model_name': 'llama3-8b-8192', 'system_fingerprint': 'fp_5b339000ab', 'service_tier': 'on_demand', 'finish_reason': 'stop', 'logprobs': None}, id='run--11db252f-9fdc-4c19-b161-f13e47472e3b-0', usage_metadata={'input_tokens': 18, 'output_tokens': 444, 'total_tokens': 462})]}"
      ]
     },
     "execution_count": 15,
     "metadata": {},
     "output_type": "execute_result"
    }
   ],
   "source": [
    "response=graph.invoke({'messages':\"Which is the best ipl team?\"})\n",
    "response"
   ]
  },
  {
   "cell_type": "code",
   "execution_count": 16,
   "id": "d98d1752",
   "metadata": {},
   "outputs": [
    {
     "name": "stdout",
     "output_type": "stream",
     "text": [
      "Hi! I'm just an AI, so I don't have feelings like humans do, but I'm functioning properly and ready to help you with any questions or tasks you may have! How about you? How's your day going so far?\n"
     ]
    }
   ],
   "source": [
    "for event in graph.stream({\"messages\":\"Hi How are you?\"}): #event contains messages of every node in the graph\n",
    "    for value in event.values():\n",
    "        print(value[\"messages\"][0].content)"
   ]
  },
  {
   "cell_type": "code",
   "execution_count": 34,
   "id": "7c00dc7f",
   "metadata": {},
   "outputs": [
    {
     "data": {
      "text/plain": [
       "'A question that sparks debate and passion among cricket fans!\\n\\nThe Indian Premier League (IPL) is a highly competitive tournament, and each team has its own strengths and weaknesses. It\\'s difficult to pinpoint a single \"best\" team, as the outcome of the season can depend on various factors, such as team composition, player performances, and strategic decisions.\\n\\nThat being said, here are some of the most successful IPL teams, based on their performance over the years:\\n\\n1. **Mumbai Indians**: With five IPL titles (2013, 2015, 2017, 2019, and 2020), Mumbai Indians are one of the most successful teams in the tournament. They have a strong squad, excellent team management, and a winning culture.\\n2. **Chennai Super Kings**: The Yellow Army has four IPL titles (2010, 2011, 2018, and 2021) and has been a consistent top-performing team. They have a strong core of experienced players and a good balance of youth and experience.\\n3. **Kolkata Knight Riders**: The Knight Riders have two IPL titles (2012 and 2014) and have been a consistent top-four team. They have a strong squad, a good balance of Indian and foreign players, and a successful captain in Dinesh Karthik.\\n4. **Rajasthan Royals**: The Royals have one IPL title (2008) and have been a consistent top-four team. They have a strong squad, a good balance of Indian and foreign players, and a successful captain in Sanju Samson.\\n5. **Sunrisers Hyderabad**: The Sunrisers have one IPL title (2016) and have been a consistent top-four team. They have a strong squad, a good balance of Indian and foreign players, and a successful captain in Kane Williamson.\\n\\nOther teams, like Delhi Capitals, Kings XI Punjab, Royal Challengers Bangalore, and Punjab Kings, have also had their share of successes and have a loyal fan base.\\n\\nUltimately, the \"best\" IPL team is a matter of personal opinion and depends on individual perspectives on team performance, player strengths, and strategic decisions.'"
      ]
     },
     "execution_count": 34,
     "metadata": {},
     "output_type": "execute_result"
    }
   ],
   "source": [
    "response['messages'][-1].content\n"
   ]
  },
  {
   "cell_type": "markdown",
   "id": "0689cc42",
   "metadata": {},
   "source": [
    "### Chatbot with tools"
   ]
  },
  {
   "cell_type": "code",
   "execution_count": 21,
   "id": "6f0fec7c",
   "metadata": {},
   "outputs": [
    {
     "data": {
      "text/plain": [
       "{'query': 'What is langgraph?',\n",
       " 'follow_up_questions': None,\n",
       " 'answer': None,\n",
       " 'images': [],\n",
       " 'results': [{'url': 'https://www.datacamp.com/tutorial/langgraph-tutorial',\n",
       "   'title': 'LangGraph Tutorial: What Is LangGraph and How to Use It?',\n",
       "   'content': 'LangGraph is a library within the LangChain ecosystem that provides a framework for defining, coordinating, and executing multiple LLM agents (or chains) in a structured and efficient manner. By managing the flow of data and the sequence of operations, LangGraph allows developers to focus on the high-level logic of their applications rather than the intricacies of agent coordination. Whether you need a chatbot that can handle various types of user requests or a multi-agent system that performs complex tasks, LangGraph provides the tools to build exactly what you need. LangGraph significantly simplifies the development of complex LLM applications by providing a structured framework for managing state and coordinating agent interactions.',\n",
       "   'score': 0.9520821,\n",
       "   'raw_content': None},\n",
       "  {'url': 'https://www.ibm.com/think/topics/langgraph',\n",
       "   'title': 'What is LangGraph? - IBM',\n",
       "   'content': 'LangGraph, created by LangChain, is an open source AI agent framework designed to build, deploy and manage complex generative AI agent workflows. At its core, LangGraph uses the power of graph-based architectures to model and manage the intricate relationships between various components of an AI agent workflow. LangGraph illuminates the processes within an AI workflow, allowing full transparency of the agent’s state. By combining these technologies with a set of APIs and tools, LangGraph provides users with a versatile platform for developing AI solutions and workflows including chatbots, state graphs and other agent-based systems. Nodes: In LangGraph, nodes represent individual components or agents within an AI workflow. LangGraph uses enhanced decision-making by modeling complex relationships between nodes, which means it uses AI agents to analyze their past actions and feedback.',\n",
       "   'score': 0.94584644,\n",
       "   'raw_content': None}],\n",
       " 'response_time': 1.17}"
      ]
     },
     "execution_count": 21,
     "metadata": {},
     "output_type": "execute_result"
    }
   ],
   "source": [
    "from langchain_tavily import TavilySearch #A tool that is used to take data from external source internet\n",
    "\n",
    "tool=TavilySearch(max_results=2) # max results to fetch from the internet\n",
    "tool.invoke(\"What is langgraph?\")"
   ]
  },
  {
   "cell_type": "code",
   "execution_count": 20,
   "id": "31e1a920",
   "metadata": {},
   "outputs": [],
   "source": [
    "# Custom multiply functions \n",
    "def multiply(a:int,b:int)->int:\n",
    "    \"\"\"\n",
    "    Args:\n",
    "        a (int): first int\n",
    "        b (int): second int\n",
    "\n",
    "    Returns:\n",
    "        int: output\n",
    "    \"\"\"\n",
    "    return a*b"
   ]
  },
  {
   "cell_type": "code",
   "execution_count": 22,
   "id": "2398edf9",
   "metadata": {},
   "outputs": [],
   "source": [
    "tools=[tool,multiply]\n",
    "llm_with_tools=llm.bind_tools(tools)\n"
   ]
  },
  {
   "cell_type": "code",
   "execution_count": 23,
   "id": "c00b9929",
   "metadata": {},
   "outputs": [
    {
     "data": {
      "text/plain": [
       "RunnableBinding(bound=ChatGroq(client=<groq.resources.chat.completions.Completions object at 0x000001965B5C0400>, async_client=<groq.resources.chat.completions.AsyncCompletions object at 0x000001965B5C0040>, model_name='llama3-8b-8192', model_kwargs={}, groq_api_key=SecretStr('**********')), kwargs={'tools': [{'type': 'function', 'function': {'name': 'tavily_search', 'description': 'A search engine optimized for comprehensive, accurate, and trusted results. Useful for when you need to answer questions about current events. It not only retrieves URLs and snippets, but offers advanced search depths, domain management, time range filters, and image search, this tool delivers real-time, accurate, and citation-backed results.Input should be a search query.', 'parameters': {'properties': {'query': {'description': 'Search query to look up', 'type': 'string'}, 'include_domains': {'anyOf': [{'items': {'type': 'string'}, 'type': 'array'}, {'type': 'null'}], 'default': [], 'description': 'A list of domains to restrict search results to.\\n\\n        Use this parameter when:\\n        1. The user explicitly requests information from specific websites (e.g., \"Find climate data from nasa.gov\")\\n        2. The user mentions an organization or company without specifying the domain (e.g., \"Find information about iPhones from Apple\")\\n\\n        In both cases, you should determine the appropriate domains (e.g., [\"nasa.gov\"] or [\"apple.com\"]) and set this parameter.\\n\\n        Results will ONLY come from the specified domains - no other sources will be included.\\n        Default is None (no domain restriction).\\n        '}, 'exclude_domains': {'anyOf': [{'items': {'type': 'string'}, 'type': 'array'}, {'type': 'null'}], 'default': [], 'description': 'A list of domains to exclude from search results.\\n\\n        Use this parameter when:\\n        1. The user explicitly requests to avoid certain websites (e.g., \"Find information about climate change but not from twitter.com\")\\n        2. The user mentions not wanting results from specific organizations without naming the domain (e.g., \"Find phone reviews but nothing from Apple\")\\n\\n        In both cases, you should determine the appropriate domains to exclude (e.g., [\"twitter.com\"] or [\"apple.com\"]) and set this parameter.\\n\\n        Results will filter out all content from the specified domains.\\n        Default is None (no domain exclusion).\\n        '}, 'search_depth': {'anyOf': [{'enum': ['basic', 'advanced'], 'type': 'string'}, {'type': 'null'}], 'default': 'basic', 'description': 'Controls search thoroughness and result comprehensiveness.\\n    \\n        Use \"basic\" for simple queries requiring quick, straightforward answers.\\n        \\n        Use \"advanced\" (default) for complex queries, specialized topics, \\n        rare information, or when in-depth analysis is needed.\\n        '}, 'include_images': {'anyOf': [{'type': 'boolean'}, {'type': 'null'}], 'default': False, 'description': 'Determines if the search returns relevant images along with text results.\\n   \\n        Set to True when the user explicitly requests visuals or when images would \\n        significantly enhance understanding (e.g., \"Show me what black holes look like,\" \\n        \"Find pictures of Renaissance art\").\\n        \\n        Leave as False (default) for most informational queries where text is sufficient.\\n        '}, 'time_range': {'anyOf': [{'enum': ['day', 'week', 'month', 'year'], 'type': 'string'}, {'type': 'null'}], 'default': None, 'description': 'Limits results to content published within a specific timeframe.\\n        \\n        ONLY set this when the user explicitly mentions a time period \\n        (e.g., \"latest AI news,\" \"articles from last week\").\\n        \\n        For less popular or niche topics, use broader time ranges \\n        (\"month\" or \"year\") to ensure sufficient relevant results.\\n   \\n        Options: \"day\" (24h), \"week\" (7d), \"month\" (30d), \"year\" (365d).\\n        \\n        Default is None.\\n        '}, 'topic': {'anyOf': [{'enum': ['general', 'news', 'finance'], 'type': 'string'}, {'type': 'null'}], 'default': 'general', 'description': 'Specifies search category for optimized results.\\n   \\n        Use \"general\" (default) for most queries, INCLUDING those with terms like \\n        \"latest,\" \"newest,\" or \"recent\" when referring to general information.\\n\\n        Use \"finance\" for markets, investments, economic data, or financial news.\\n\\n        Use \"news\" ONLY for politics, sports, or major current events covered by \\n        mainstream media - NOT simply because a query asks for \"new\" information.\\n        '}, 'include_favicon': {'anyOf': [{'type': 'boolean'}, {'type': 'null'}], 'default': False, 'description': \"Determines whether to include favicon URLs for each search result.\\n        \\n        When enabled, each search result will include the website's favicon URL,\\n        which can be useful for:\\n        - Building rich UI interfaces with visual website indicators\\n        - Providing visual cues about the source's credibility or brand\\n        - Creating bookmark-like displays with recognizable site icons\\n        \\n        Set to True when creating user interfaces that benefit from visual branding\\n        or when favicon information enhances the user experience.\\n        \\n        Default is False to minimize response size and API usage.\\n        \"}, 'start_date': {'anyOf': [{'type': 'string'}, {'type': 'null'}], 'default': None, 'description': 'Filters search results to include only content published on or after this date.\\n        \\n        Use this parameter when you need to:\\n        - Find recent developments or updates on a topic\\n        - Exclude outdated information from search results\\n        - Focus on content within a specific timeframe\\n        - Combine with end_date to create a custom date range\\n        \\n        Format must be YYYY-MM-DD (e.g., \"2024-01-15\" for January 15, 2024).\\n        \\n        Examples:\\n        - \"2024-01-01\" - Results from January 1, 2024 onwards\\n        - \"2023-12-25\" - Results from December 25, 2023 onwards\\n        \\n        When combined with end_date, creates a precise date range filter.\\n        \\n        Default is None (no start date restriction).\\n        '}, 'end_date': {'anyOf': [{'type': 'string'}, {'type': 'null'}], 'default': None, 'description': 'Filters search results to include only content published on or before this date.\\n        \\n        Use this parameter when you need to:\\n        - Exclude content published after a certain date\\n        - Study historical information or past events\\n        - Research how topics were covered during specific time periods\\n        - Combine with start_date to create a custom date range\\n        \\n        Format must be YYYY-MM-DD (e.g., \"2024-03-31\" for March 31, 2024).\\n        \\n        Examples:\\n        - \"2024-03-31\" - Results up to and including March 31, 2024\\n        - \"2023-12-31\" - Results up to and including December 31, 2023\\n        \\n        When combined with start_date, creates a precise date range filter.\\n        For example: start_date=\"2024-01-01\", end_date=\"2024-03-31\" \\n        returns results from Q1 2024 only.\\n        \\n        Default is None (no end date restriction).\\n        '}}, 'required': ['query'], 'type': 'object'}}}, {'type': 'function', 'function': {'name': 'multiply', 'description': '', 'parameters': {'properties': {'a': {'description': 'first int', 'type': 'integer'}, 'b': {'description': 'second int', 'type': 'integer'}}, 'required': ['a', 'b'], 'type': 'object'}}}]}, config={}, config_factories=[])"
      ]
     },
     "execution_count": 23,
     "metadata": {},
     "output_type": "execute_result"
    }
   ],
   "source": [
    "llm_with_tools"
   ]
  },
  {
   "cell_type": "code",
   "execution_count": 15,
   "id": "f4a6cd44",
   "metadata": {},
   "outputs": [
    {
     "data": {
      "image/png": "[encoded data removed]",
      "text/plain": [
       "<IPython.core.display.Image object>"
      ]
     },
     "metadata": {},
     "output_type": "display_data"
    }
   ],
   "source": [
    "from langgraph.graph import StateGraph,START,END\n",
    "from langgraph.prebuilt import ToolNode\n",
    "from langgraph.prebuilt import tools_condition\n",
    "\n",
    "##Node defenition\n",
    "\n",
    "def tool_calling_llm(state:State):\n",
    "    return {\"messages\":[llm_with_tools.invoke(state[\"messages\"])]}\n",
    "\n",
    "## graph builder\n",
    "builder=StateGraph(State)\n",
    "builder.add_node(\"tool_calling_llm\",tool_calling_llm)\n",
    "builder.add_node(\"tools\",ToolNode(tools))\n",
    "\n",
    "##Add edges\n",
    "builder.add_edge(START,\"tool_calling_llm\")\n",
    "builder.add_conditional_edges(\"tool_calling_llm\",tools_condition)\n",
    "builder.add_edge(\"tools\",END)\n",
    "\n",
    "graph=builder.compile()\n",
    "from IPython.display import Image, display\n",
    "\n",
    "display(Image(graph.get_graph().draw_mermaid_png()))\n",
    "\n"
   ]
  },
  {
   "cell_type": "code",
   "execution_count": 30,
   "id": "a0a07abb",
   "metadata": {},
   "outputs": [
    {
     "data": {
      "text/plain": [
       "'{\"query\": \"latest ai news\", \"follow_up_questions\": null, \"answer\": null, \"images\": [], \"results\": [{\"url\": \"https://www.sciencedaily.com/news/computers_math/artificial_intelligence/\", \"title\": \"Artificial Intelligence News - ScienceDaily\", \"content\": \"ScienceDaily\\\\n\\\\n# Artificial Intelligence News\\\\n\\\\n## Top Headlines\\\\n\\\\n## Latest Headlines\\\\n\\\\n## Earlier Headlines\\\\n\\\\n### Tuesday, May 27, 2025\\\\n\\\\n### Thursday, May 22, 2025\\\\n\\\\n### Wednesday, May 21, 2025\\\\n\\\\n### Monday, May 19, 2025\\\\n\\\\n### Thursday, May 15, 2025\\\\n\\\\n### Wednesday, May 14, 2025\\\\n\\\\n### Tuesday, May 13, 2025\\\\n\\\\n### Monday, May 12, 2025\\\\n\\\\n### Thursday, May 8, 2025\\\\n\\\\n### Wednesday, May 7, 2025\\\\n\\\\n### Tuesday, May 6, 2025\\\\n\\\\n### Monday, May 5, 2025\\\\n\\\\n### Thursday, May 1, 2025\\\\n\\\\n### Wednesday, April 30, 2025 [...] ### Monday, April 28, 2025\\\\n\\\\n### Friday, April 25, 2025\\\\n\\\\n### Thursday, April 24, 2025\\\\n\\\\n### Wednesday, April 23, 2025\\\\n\\\\n### Tuesday, April 22, 2025\\\\n\\\\n### Monday, April 21, 2025\\\\n\\\\n### Wednesday, April 16, 2025\\\\n\\\\n### Tuesday, April 15, 2025\\\\n\\\\n### Monday, April 14, 2025\\\\n\\\\n### Thursday, April 10, 2025\\\\n\\\\n### Wednesday, April 9, 2025\\\\n\\\\n### Tuesday, April 8, 2025\\\\n\\\\n### Monday, April 7, 2025\\\\n\\\\n### Friday, April 4, 2025\\\\n\\\\n### Thursday, April 3, 2025\\\\n\\\\n### Wednesday, April 2, 2025\\\\n\\\\n### Monday, March 31, 2025 [...] ### Friday, March 28, 2025\\\\n\\\\n### Thursday, March 27, 2025\\\\n\\\\n### Wednesday, March 26, 2025\\\\n\\\\n### Tuesday, March 25, 2025\\\\n\\\\n### Thursday, March 20, 2025\\\\n\\\\n### Wednesday, March 19, 2025\\\\n\\\\n### Tuesday, March 18, 2025\\\\n\\\\n## Breaking\\\\n\\\\n## Trending Topics\\\\n\\\\n## Strange & Offbeat\\\\n\\\\nStay informed with ScienceDaily\\'s free email newsletter, updated daily and weekly. Or view our many newsfeeds in your RSS reader:\\\\n\\\\nKeep up to date with the latest news from ScienceDaily via social networks:\", \"score\": 0.7978881, \"raw_content\": null}, {\"url\": \"https://www.theguardian.com/technology/artificialintelligenceai\", \"title\": \"Artificial intelligence (AI) | The Guardian\", \"content\": \"## Artificial intelligence (AI)\\\\n\\\\n## 2 August 2025\\\\n\\\\nMan with a prosthetic hand working on a laptop\\\\n\\\\n### AI chatbots are becoming popular alternatives to therapy. But they may worsen mental health crises, experts warn\\\\n\\\\nAn in-camera double exposure of pedestrians and the indicator boards at the Australian Securities Exchange \\\\n\\\\n### Australia and the AI revolution – turning algorithms into opportunities\\\\n\\\\na man speaks on stage [...] ### Attacks on prison officers and inmate deaths at record levels in England and Wales\\\\n\\\\n### First NHS AI-run physio clinic in England halves back-pain waiting list\\\\n\\\\n## 30 July 2025\\\\n\\\\nMark Zuckerberg at the Chase Center in San Francisco, September 2024. \\\\n\\\\n### Zuckerberg claims ‘superintelligence is now in sight’ as Meta lavishes billions on AI\\\\n\\\\nMicrosoft sign and logo at the company\\'s headquarters, in Redmond, Washington.\\\\n\\\\n### Wall Street delighted with Microsoft as it spends $100bn on AI [...] ### Big tech has spent $155bn on AI this year. It’s about to spend hundreds of billions more\\\\n\\\\nAirbnb  damage\\\\n\\\\n### Airbnb guest says images were altered in false £12,000 damage claim\\\\n\\\\n### Enough of the billionaires and their big tech. ‘Frugal tech’ will build us all a better world\\\\n\\\\n### ‘It wasn’t an error’: Ofqual boss defends regulator after withdrawn data row\\\\n\\\\n## 1 August 2025\\\\n\\\\nMargaret Boden, AI prof\\\\n\\\\n### Margaret Boden obituary\\\\n\\\\n## 31 July 2025\", \"score\": 0.650934, \"raw_content\": null}, {\"url\": \"https://www.rte.ie/news/business/2025/0803/1526576-eu-ai-act/\", \"title\": \"New AI rules come into force in EU - RTE\", \"content\": \"The latest phase of the EU\\'s AI Act also means the Government must put structures in place to police the companies providing AI tools.\\\\n\\\\nEurope\\'s regulation of AI comes as the US vows to cut red tape for the sector.\\\\n\\\\nAt the offices of digital agency All human in Dublin, developers are working on a new project for a client - an AI-driven energy price comparison tool.\\\\n\\\\nAdvances in technology mean the AI chatbot being used in the project has an Irish accent and sounds human. [...] ###### Information Information\\\\n\\\\n# \\'What is real and what is not\\' - AI rules come into force\\\\n\\\\nKevin Magee, Chief Technology Officer of All human, working on their latest AI project\\\\n\\\\nBrian O\\\\\\\\u0027Donovan\\\\n\\\\nBrian O\\\\\\\\u0027Donovan\\\\n\\\\nWork & Technology Correspondent\\\\n\\\\nNew rules came into force yesterday requiring makers of artificial intelligence (AI) models to ensure their systems are safe and transparent. [...] \\\\\"As a consequence of the AI Act, organisations, brands and providers of services, particularly in a digital context, have to declare what is real and what is not,\\\\\" Mr Mitchell said.\\\\n\\\\nThe EU AI Act came into force last year and is being implemented on a phased basis with its latest provisions taking effect yesterday.\\\\n\\\\nThe Act bans artificial intelligence systems considered a clear threat to the safety, livelihoods and rights of people.\", \"score\": 0.6202772, \"raw_content\": null}], \"response_time\": 2.51}'"
      ]
     },
     "execution_count": 30,
     "metadata": {},
     "output_type": "execute_result"
    }
   ],
   "source": [
    "response=graph.invoke({\"messages\":\"What is latest ai news\"})\n",
    "response['messages'][-1].content\n"
   ]
  },
  {
   "cell_type": "code",
   "execution_count": 32,
   "id": "f4562046",
   "metadata": {},
   "outputs": [
    {
     "name": "stdout",
     "output_type": "stream",
     "text": [
      "================================\u001b[1m Human Message \u001b[0m=================================\n",
      "\n",
      "What is latest ai news\n",
      "==================================\u001b[1m Ai Message \u001b[0m==================================\n",
      "Tool Calls:\n",
      "  tavily_search (nbmhzb97y)\n",
      " Call ID: nbmhzb97y\n",
      "  Args:\n",
      "    query: latest ai news\n",
      "    search_depth: advanced\n",
      "    time_range: day\n",
      "    topic: general\n",
      "=================================\u001b[1m Tool Message \u001b[0m=================================\n",
      "Name: tavily_search\n",
      "\n",
      "{\"query\": \"latest ai news\", \"follow_up_questions\": null, \"answer\": null, \"images\": [], \"results\": [{\"url\": \"https://www.sciencedaily.com/news/computers_math/artificial_intelligence/\", \"title\": \"Artificial Intelligence News - ScienceDaily\", \"content\": \"ScienceDaily\\n\\n# Artificial Intelligence News\\n\\n## Top Headlines\\n\\n## Latest Headlines\\n\\n## Earlier Headlines\\n\\n### Tuesday, May 27, 2025\\n\\n### Thursday, May 22, 2025\\n\\n### Wednesday, May 21, 2025\\n\\n### Monday, May 19, 2025\\n\\n### Thursday, May 15, 2025\\n\\n### Wednesday, May 14, 2025\\n\\n### Tuesday, May 13, 2025\\n\\n### Monday, May 12, 2025\\n\\n### Thursday, May 8, 2025\\n\\n### Wednesday, May 7, 2025\\n\\n### Tuesday, May 6, 2025\\n\\n### Monday, May 5, 2025\\n\\n### Thursday, May 1, 2025\\n\\n### Wednesday, April 30, 2025 [...] ### Monday, April 28, 2025\\n\\n### Friday, April 25, 2025\\n\\n### Thursday, April 24, 2025\\n\\n### Wednesday, April 23, 2025\\n\\n### Tuesday, April 22, 2025\\n\\n### Monday, April 21, 2025\\n\\n### Wednesday, April 16, 2025\\n\\n### Tuesday, April 15, 2025\\n\\n### Monday, April 14, 2025\\n\\n### Thursday, April 10, 2025\\n\\n### Wednesday, April 9, 2025\\n\\n### Tuesday, April 8, 2025\\n\\n### Monday, April 7, 2025\\n\\n### Friday, April 4, 2025\\n\\n### Thursday, April 3, 2025\\n\\n### Wednesday, April 2, 2025\\n\\n### Monday, March 31, 2025 [...] ### Friday, March 28, 2025\\n\\n### Thursday, March 27, 2025\\n\\n### Wednesday, March 26, 2025\\n\\n### Tuesday, March 25, 2025\\n\\n### Thursday, March 20, 2025\\n\\n### Wednesday, March 19, 2025\\n\\n### Tuesday, March 18, 2025\\n\\n## Breaking\\n\\n## Trending Topics\\n\\n## Strange & Offbeat\\n\\nStay informed with ScienceDaily's free email newsletter, updated daily and weekly. Or view our many newsfeeds in your RSS reader:\\n\\nKeep up to date with the latest news from ScienceDaily via social networks:\", \"score\": 0.7978881, \"raw_content\": null}, {\"url\": \"https://www.theguardian.com/technology/artificialintelligenceai\", \"title\": \"Artificial intelligence (AI) | The Guardian\", \"content\": \"## Artificial intelligence (AI)\\n\\n## 2 August 2025\\n\\nMan with a prosthetic hand working on a laptop\\n\\n### AI chatbots are becoming popular alternatives to therapy. But they may worsen mental health crises, experts warn\\n\\nAn in-camera double exposure of pedestrians and the indicator boards at the Australian Securities Exchange \\n\\n### Australia and the AI revolution – turning algorithms into opportunities\\n\\na man speaks on stage [...] ### Attacks on prison officers and inmate deaths at record levels in England and Wales\\n\\n### First NHS AI-run physio clinic in England halves back-pain waiting list\\n\\n## 30 July 2025\\n\\nMark Zuckerberg at the Chase Center in San Francisco, September 2024. \\n\\n### Zuckerberg claims ‘superintelligence is now in sight’ as Meta lavishes billions on AI\\n\\nMicrosoft sign and logo at the company's headquarters, in Redmond, Washington.\\n\\n### Wall Street delighted with Microsoft as it spends $100bn on AI [...] ### Big tech has spent $155bn on AI this year. It’s about to spend hundreds of billions more\\n\\nAirbnb  damage\\n\\n### Airbnb guest says images were altered in false £12,000 damage claim\\n\\n### Enough of the billionaires and their big tech. ‘Frugal tech’ will build us all a better world\\n\\n### ‘It wasn’t an error’: Ofqual boss defends regulator after withdrawn data row\\n\\n## 1 August 2025\\n\\nMargaret Boden, AI prof\\n\\n### Margaret Boden obituary\\n\\n## 31 July 2025\", \"score\": 0.650934, \"raw_content\": null}, {\"url\": \"https://www.rte.ie/news/business/2025/0803/1526576-eu-ai-act/\", \"title\": \"New AI rules come into force in EU - RTE\", \"content\": \"The latest phase of the EU's AI Act also means the Government must put structures in place to police the companies providing AI tools.\\n\\nEurope's regulation of AI comes as the US vows to cut red tape for the sector.\\n\\nAt the offices of digital agency All human in Dublin, developers are working on a new project for a client - an AI-driven energy price comparison tool.\\n\\nAdvances in technology mean the AI chatbot being used in the project has an Irish accent and sounds human. [...] ###### Information Information\\n\\n# 'What is real and what is not' - AI rules come into force\\n\\nKevin Magee, Chief Technology Officer of All human, working on their latest AI project\\n\\nBrian O\\\\u0027Donovan\\n\\nBrian O\\\\u0027Donovan\\n\\nWork & Technology Correspondent\\n\\nNew rules came into force yesterday requiring makers of artificial intelligence (AI) models to ensure their systems are safe and transparent. [...] \\\"As a consequence of the AI Act, organisations, brands and providers of services, particularly in a digital context, have to declare what is real and what is not,\\\" Mr Mitchell said.\\n\\nThe EU AI Act came into force last year and is being implemented on a phased basis with its latest provisions taking effect yesterday.\\n\\nThe Act bans artificial intelligence systems considered a clear threat to the safety, livelihoods and rights of people.\", \"score\": 0.6202772, \"raw_content\": null}], \"response_time\": 2.51}\n"
     ]
    }
   ],
   "source": [
    "for m in response[\"messages\"]:\n",
    "    m.pretty_print()"
   ]
  },
  {
   "cell_type": "code",
   "execution_count": 40,
   "id": "fda25d12",
   "metadata": {},
   "outputs": [
    {
     "name": "stdout",
     "output_type": "stream",
     "text": [
      "================================\u001b[1m Human Message \u001b[0m=================================\n",
      "\n",
      "Get me the recent AI news and then multiply 5 and 2\n",
      "==================================\u001b[1m Ai Message \u001b[0m==================================\n",
      "Tool Calls:\n",
      "  tavily_search (fzsgaq45m)\n",
      " Call ID: fzsgaq45m\n",
      "  Args:\n",
      "    query: recent AI news\n",
      "    search_depth: advanced\n",
      "    time_range: week\n",
      "  multiply (naxzv35yj)\n",
      " Call ID: naxzv35yj\n",
      "  Args:\n",
      "    a: 5\n",
      "    b: 2\n",
      "=================================\u001b[1m Tool Message \u001b[0m=================================\n",
      "Name: tavily_search\n",
      "\n",
      "{\"query\": \"recent AI news\", \"follow_up_questions\": null, \"answer\": null, \"images\": [], \"results\": [{\"url\": \"https://techcrunch.com/category/artificial-intelligence/\", \"title\": \"AI News & Artificial Intelligence | TechCrunch\", \"content\": \"The Meta Platforms Inc. pavilion ahead of the World Economic Forum (WEF) in Davos, Switzerland, on Jan. 19, 2025.\\n\\n### Meta to spend up to $72B on AI infrastructure in 2025 as compute arms race escalates\\n\\n### Zuckerberg signals Meta won’t open source all of its ‘superintelligence’ AI models\\n\\nEvent Logo [...] ### Vast Data in talks with Alphabet’s CapitalG, Nvidia to fund round at up to $30B valuation\\n\\nGemini 2.5\\n\\n### Google rolls out Gemini Deep Think AI, a reasoning model that tests multiple ideas in parallel\\n\\nclose up of a semiconductor\\n\\n### Female-founded semiconductor AI startup SixSense raises $8.5M\\n\\nAndy Jassy, chief executive officer of Amazon.com Inc.\\n\\n### Amazon CEO wants to put ads in your Alexa+ conversations [...] ### Tim Cook reportedly tells employees Apple ‘must’ win in AI\\n\\nAnthropic Claude 3.5 logo\\n\\n### Anthropic cuts off OpenAI’s access to its Claude models\\n\\nNvidia logo\\n\\n### A backlog at the Commerce Department is reportedly stalling Nvidia’s H20 chip licenses\\n\\nSTAN\\n\\n### Google bets on STAN, an Indian social gaming platform\\n\\nAnthropic co-founder and CEO Dario Amodei speaking at Viva Technology in Paris\\n\\n### From Meta’s massive offers to Anthropic’s massive valuation, does AI have a ceiling?\", \"score\": 0.7065353, \"raw_content\": null}, {\"url\": \"https://www.ibm.com/think\", \"title\": \"Think - IBM\", \"content\": \"01 Aug\\n\\nAI for code\\n\\nWhat code LLMs mean for the future of software development\\n\\n31 Jul\\n\\nAI reasoning\\n\\nCan AI learn to second-guess itself?\\n\\n31 Jul\\n\\nAgentic AI\\n\\nAgentic AI and what we should understand: A Q&A with Phaedra Boinodiris\\n\\n29 Jul\\n\\nLarge language models\\n\\nAn Atari game from 1979 “wrecked” ChatGPT in chess. Here’s why it doesn’t really matter\\n\\n30 Jul\\n\\nCybersecurity\\n\\n## 2025 Cost of a Data Breach Report: Navigating the AI rush without sidelining security\", \"score\": 0.6158511, \"raw_content\": null}, {\"url\": \"https://www.cbsnews.com/news/ai-jobs-layoffs-us-2025/\", \"title\": \"AI is leading to thousands of job losses, report finds - CBS News\", \"content\": \"The impact of AI on hiring is perhaps most visible among younger workers. Job listings for the kind of entry-level corporate roles traditionally available to recent college graduates have declined 15% over the past year, according to Handshake, a career platform geared toward Gen Z employees. Over the past two years, there has been a 400% increase in employers using \\\"AI\\\" in job descriptions, the firm found. [...] Watch CBS News\\n\\n# AI is leading to thousands of job losses, report finds\\n\\nmoneywatch\\n\\nUpdated on: August 1, 2025 / 1:39 PM EDT\\n/ CBS News\\n\\nThe U.S. job market, already showing the strain from global trade tensions, is showing early signs of another critical issue facing workers today: artificial intelligence. [...] In July alone, rising adoption of generative AI technology by private employers accounted for more than 10,000 job cuts, according to a report released this week by Challenger, Gray & Christmas. The outplacement firm lists AI as one of the top five factors contributing to job losses in 2025.\", \"score\": 0.61251885, \"raw_content\": null}], \"response_time\": 2.83}\n",
      "=================================\u001b[1m Tool Message \u001b[0m=================================\n",
      "Name: multiply\n",
      "\n",
      "10\n"
     ]
    }
   ],
   "source": [
    "response=graph.invoke({\"messages\":\"Get me the recent AI news and then multiply 5 and 2\"})\n",
    "for m in response[\"messages\"]:\n",
    "    m.pretty_print()\n"
   ]
  },
  {
   "cell_type": "code",
   "execution_count": 8,
   "id": "02f40649",
   "metadata": {},
   "outputs": [
    {
     "data": {
      "image/png": "[encoded data removed]",
      "text/plain": [
       "<IPython.core.display.Image object>"
      ]
     },
     "metadata": {},
     "output_type": "display_data"
    }
   ],
   "source": [
    "from langgraph.graph import StateGraph,START,END\n",
    "from langgraph.prebuilt import ToolNode\n",
    "from langgraph.prebuilt import tools_condition\n",
    "\n",
    "##Node defenition\n",
    "\n",
    "def tool_calling_llm(state:State):\n",
    "    return {\"messages\":[llm_with_tools.invoke(state[\"messages\"])]}\n",
    "\n",
    "## graph builder\n",
    "builder=StateGraph(State)\n",
    "builder.add_node(\"tool_calling_llm\",tool_calling_llm)\n",
    "builder.add_node(\"tools\",ToolNode(tools))\n",
    "\n",
    "##Add edges\n",
    "builder.add_edge(START,\"tool_calling_llm\")\n",
    "builder.add_conditional_edges(\"tool_calling_llm\",tools_condition)\n",
    "builder.add_edge(\"tools\",\"tool_calling_llm\")\n",
    "\n",
    "graph=builder.compile()\n",
    "from IPython.display import Image, display\n",
    "\n",
    "display(Image(graph.get_graph().draw_mermaid_png()))\n",
    "\n"
   ]
  },
  {
   "cell_type": "code",
   "execution_count": 42,
   "id": "559f8c56",
   "metadata": {},
   "outputs": [
    {
     "name": "stdout",
     "output_type": "stream",
     "text": [
      "================================\u001b[1m Human Message \u001b[0m=================================\n",
      "\n",
      "Get me the recent AI news and then multiply 5 and 2\n",
      "==================================\u001b[1m Ai Message \u001b[0m==================================\n",
      "Tool Calls:\n",
      "  tavily_search (7va5qeyvp)\n",
      " Call ID: 7va5qeyvp\n",
      "  Args:\n",
      "    query: recent AI news\n",
      "    search_depth: advanced\n",
      "    topic: news\n",
      "=================================\u001b[1m Tool Message \u001b[0m=================================\n",
      "Name: tavily_search\n",
      "\n",
      "{\"query\": \"recent AI news\", \"follow_up_questions\": null, \"answer\": null, \"images\": [], \"results\": [{\"url\": \"https://opentools.ai/news/nasas-spacex-crew-11-makes-a-stellar-splash-at-the-iss\", \"title\": \"NASA's SpaceX Crew-11 Makes a Stellar Splash at the ISS! - OpenTools\", \"score\": 0.8409005, \"published_date\": \"Sun, 03 Aug 2025 09:12:52 GMT\", \"content\": \"Latest AI News: Daily Updated Artificial Intelligence Insights (August 3, 2025)\\n\\n===============\\n\\nOpenToolsImage 1: logo\\n\\nOpen main menu\\n\\nNewsletterNewsSubmit A ToolAdvertise\\n\\nCategories\\n\\nGet started\\n\\nLearn to use AI like a Pro. Learn More\\n\\n1.   home\\n2.   news\\n\\nLatest AI News: August 3, 2025\\n==============================\\n\\nStay informed with our daily curated artificial intelligence news and insights. We bring you the most important updates in AI, machine learning, and emerging technologies.\", \"raw_content\": null}, {\"url\": \"https://inews.zoombangla.com/meta-ai-self-improvement-alarm/\", \"title\": \"Meta AI Self-Improvement Raises Alarm Among Experts - Zoom Bangla News\", \"score\": 0.76002824, \"published_date\": \"Fri, 01 Aug 2025 23:32:31 GMT\", \"content\": \"The quiet hum of servers in Meta’s data centers hides a development that’s unsettling AI watchdogs worldwide: Mark Zuckerberg’s recent admission that Meta AI is _improving itself_ without human intervention. In a June 2024 corporate announcement titled “Personal Superintelligence,” the CEO confirmed the AI’s autonomous advancements—slow but undeniable—igniting fresh debates about uncontrolled technological evolution. While Zuckerberg envisions this as democratizing “superintelligence for all,” [...] Zuckerberg emphasizes Meta’s goal of “empowering billions” through accessible AI assistants. However, the EU’s newly enacted AI Act classifies self-evolving systems as “high-risk,” requiring stringent audits—a framework absent in the U.S. and most Asian markets. An international coalition including DeepMind and Anthropic recently proposed “Bot-Tamer Protocols”: mandatory circuit-breakers that halt AI if self-modification exceeds predefined thresholds. [...] The self-improvement capability arrives amid global regulatory paralysis. The U.S. lacks federal AI legislation, relying on voluntary White House pledges like the 2023 AI Bill of Rights. Meanwhile, AI integration surges—from age verification on Google platforms to real-time biometric analysis in smartphones. Dr. Ian Chen, former OpenAI safety researcher, states (MIT Technology Review, May 2024): “Autonomous evolution compounds data privacy risks. If AI modifies its training parameters, it could\", \"raw_content\": null}, {\"url\": \"https://zamin.uz/en/technology/155797-nvidia-rival-groq-to-raise-big-in-ai-chip-race.html\", \"title\": \"NVIDIA rival Groq to raise big in AI chip race - Zamin.uz\", \"score\": 0.7055624, \"published_date\": \"Tue, 29 Jul 2025 23:28:00 GMT\", \"content\": \"Image 43: Tesla has signed a $16.5 billion (approx. 208 trillion Tesla signs $16.5B AI chip deal with Samsung Image 44Yesterday, 03:32\\n\\nImage 45: Facial recognition technology, once limited to identity Facial payment technology is expanding in South Korea Image 4621:29, 28-07-2025\\n\\nImage 47: OpenAI has entered into a strategic partnership with OpenAI is building the world's largest AI data center called Stargate Image 48Yesterday, 02:03\\n\\nAbout the Site\\n\\n \\\"Zamin\\\" - News of Uzbekistan. [...] Image 20: OpenAI has launched a new “Study Mode” feature in ChatGPT, OpenAI adds Study Mode to ChatGPT for learners Today, 02:30\\n\\nImage 21: Adobe Photoshop has introduced a new AI-powered feature Photoshop now uses AI to add people and objects naturally Today, 02:06\\n\\nImage 22: YouTube is introducing neural network technology to YouTube to detect teens using neural networks Today, 01:56\\n\\nMost Read [...] Image 10: Yes, this is not Artificial intelligence that can modify the human body has been created 20:13, 15-07-2025\\n\\nImage 11: The fatal crash of The safest airplane – truth or myth? 23:49, 30-06-2025\\n\\nImage 12: Telegram has Telegram launches official fact-checking feature 11:39, 30-06-2025\\n\\nNews » Technology » NVIDIA rival Groq to raise big in AI chip race \\n\\nLatest News\\n\\nImage 13: Saudi Arabian football clubs are exploring the opportunity Saudi clubs show interest in Lewandowski Today, 04:41\", \"raw_content\": null}], \"response_time\": 1.08}\n",
      "==================================\u001b[1m Ai Message \u001b[0m==================================\n",
      "\n",
      "Based on the tool call id \"7va5qeyvp\", I have the recent AI news. Now, let me multiply 5 and 2.\n",
      "\n",
      "The result of multiplying 5 and 2 is 10.\n",
      "Tool Calls:\n",
      "  multiply (hxnh6d4kh)\n",
      " Call ID: hxnh6d4kh\n",
      "  Args:\n",
      "    a: 5\n",
      "    b: 2\n",
      "  multiply (nzr8yhx35)\n",
      " Call ID: nzr8yhx35\n",
      "  Args:\n",
      "    a: 5\n",
      "    b: 2\n",
      "=================================\u001b[1m Tool Message \u001b[0m=================================\n",
      "Name: multiply\n",
      "\n",
      "10\n",
      "=================================\u001b[1m Tool Message \u001b[0m=================================\n",
      "Name: multiply\n",
      "\n",
      "10\n",
      "==================================\u001b[1m Ai Message \u001b[0m==================================\n",
      "\n",
      "The result is consistent!\n",
      "\n",
      "Since both tool calls yielded the same result, I can now provide the final answer:\n",
      "\n",
      "10\n",
      "\n",
      "The recent AI news is available in the previous response, and the multiplication result is 10.\n"
     ]
    }
   ],
   "source": [
    "response=graph.invoke({\"messages\":\"Get me the recent AI news and then multiply 5 and 2\"})\n",
    "for m in response[\"messages\"]:\n",
    "    m.pretty_print()\n"
   ]
  },
  {
   "cell_type": "code",
   "execution_count": 44,
   "id": "0598bf3a",
   "metadata": {},
   "outputs": [
    {
     "ename": "NameError",
     "evalue": "name 'state' is not defined",
     "output_type": "error",
     "traceback": [
      "\u001b[1;31m---------------------------------------------------------------------------\u001b[0m",
      "\u001b[1;31mNameError\u001b[0m                                 Traceback (most recent call last)",
      "Cell \u001b[1;32mIn[44], line 1\u001b[0m\n\u001b[1;32m----> 1\u001b[0m \u001b[38;5;28;01mfor\u001b[39;00m m \u001b[38;5;129;01min\u001b[39;00m \u001b[43mstate\u001b[49m[\u001b[38;5;124m\"\u001b[39m\u001b[38;5;124mmessages\u001b[39m\u001b[38;5;124m\"\u001b[39m]:\n\u001b[0;32m      2\u001b[0m     \u001b[38;5;28mprint\u001b[39m(m)\n",
      "\u001b[1;31mNameError\u001b[0m: name 'state' is not defined"
     ]
    }
   ],
   "source": [
    "for m in state[\"messages\"]:\n",
    "    print(m)"
   ]
  },
  {
   "cell_type": "code",
   "execution_count": 9,
   "id": "b4bc1b3a",
   "metadata": {},
   "outputs": [
    {
     "data": {
      "image/png": "[encoded data removed]",
      "text/plain": [
       "<IPython.core.display.Image object>"
      ]
     },
     "metadata": {},
     "output_type": "display_data"
    }
   ],
   "source": [
    "from langgraph.graph import StateGraph,START,END\n",
    "from langgraph.prebuilt import ToolNode\n",
    "from langgraph.prebuilt import tools_condition\n",
    "from langgraph.checkpoint.memory import MemorySaver\n",
    "\n",
    "memory = MemorySaver()\n",
    "##Node defenition\n",
    "\n",
    "def tool_calling_llm(state:State):\n",
    "    return {\"messages\":[llm_with_tools.invoke(state[\"messages\"])]}\n",
    "\n",
    "## graph builder\n",
    "builder=StateGraph(State)\n",
    "builder.add_node(\"tool_calling_llm\",tool_calling_llm)\n",
    "builder.add_node(\"tools\",ToolNode(tools))\n",
    "\n",
    "##Add edges\n",
    "builder.add_edge(START,\"tool_calling_llm\")\n",
    "builder.add_conditional_edges(\"tool_calling_llm\",tools_condition)\n",
    "builder.add_edge(\"tools\",\"tool_calling_llm\")\n",
    "\n",
    "graph=builder.compile(checkpointer=memory)\n",
    "from IPython.display import Image, display\n",
    "\n",
    "display(Image(graph.get_graph().draw_mermaid_png()))\n",
    "\n"
   ]
  },
  {
   "cell_type": "code",
   "execution_count": 10,
   "id": "def2a453",
   "metadata": {},
   "outputs": [],
   "source": [
    "config={\"configurable\" : {\"thread_id\":\"1\"}}\n",
    "response=graph.invoke({\"messages\":\"Hi my name is Akshay\"},config=config)"
   ]
  },
  {
   "cell_type": "code",
   "execution_count": 11,
   "id": "cc52ff92",
   "metadata": {},
   "outputs": [
    {
     "data": {
      "text/plain": [
       "{'messages': [HumanMessage(content='Hi my name is Akshay', additional_kwargs={}, response_metadata={}, id='106d2163-74e7-4e85-8c10-654774bad994'),\n",
       "  AIMessage(content='Nice to meet you, Akshay! How can I assist you today?', additional_kwargs={}, response_metadata={'token_usage': {'completion_tokens': 17, 'prompt_tokens': 2902, 'total_tokens': 2919, 'completion_time': 0.014801709, 'prompt_time': 0.402125223, 'queue_time': 0.267906458, 'total_time': 0.416926932}, 'model_name': 'llama3-8b-8192', 'system_fingerprint': 'fp_0fb809dba3', 'service_tier': 'on_demand', 'finish_reason': 'stop', 'logprobs': None}, id='run--cb66a8ac-57b6-4362-9f50-a4fc491425b2-0', usage_metadata={'input_tokens': 2902, 'output_tokens': 17, 'total_tokens': 2919})]}"
      ]
     },
     "execution_count": 11,
     "metadata": {},
     "output_type": "execute_result"
    }
   ],
   "source": [
    "response"
   ]
  },
  {
   "cell_type": "code",
   "execution_count": 12,
   "id": "e3a57470",
   "metadata": {},
   "outputs": [],
   "source": [
    "response=graph.invoke({\"messages\":\"Do you know my name\"},config=config)"
   ]
  },
  {
   "cell_type": "code",
   "execution_count": 13,
   "id": "f448dfab",
   "metadata": {},
   "outputs": [
    {
     "data": {
      "text/plain": [
       "{'messages': [HumanMessage(content='Hi my name is Akshay', additional_kwargs={}, response_metadata={}, id='106d2163-74e7-4e85-8c10-654774bad994'),\n",
       "  AIMessage(content='Nice to meet you, Akshay! How can I assist you today?', additional_kwargs={}, response_metadata={'token_usage': {'completion_tokens': 17, 'prompt_tokens': 2902, 'total_tokens': 2919, 'completion_time': 0.014801709, 'prompt_time': 0.402125223, 'queue_time': 0.267906458, 'total_time': 0.416926932}, 'model_name': 'llama3-8b-8192', 'system_fingerprint': 'fp_0fb809dba3', 'service_tier': 'on_demand', 'finish_reason': 'stop', 'logprobs': None}, id='run--cb66a8ac-57b6-4362-9f50-a4fc491425b2-0', usage_metadata={'input_tokens': 2902, 'output_tokens': 17, 'total_tokens': 2919}),\n",
       "  HumanMessage(content='Do you know my name', additional_kwargs={}, response_metadata={}, id='bd61b7d6-9f18-4005-b078-5d4416e3461c'),\n",
       "  AIMessage(content='I was just told that your name is Akshay.', additional_kwargs={}, response_metadata={'token_usage': {'completion_tokens': 13, 'prompt_tokens': 2933, 'total_tokens': 2946, 'completion_time': 0.011410907, 'prompt_time': 0.394757578, 'queue_time': 0.269077821, 'total_time': 0.406168485}, 'model_name': 'llama3-8b-8192', 'system_fingerprint': 'fp_0fb809dba3', 'service_tier': 'on_demand', 'finish_reason': 'stop', 'logprobs': None}, id='run--e05b4fd0-866b-4758-b277-d5fe36c82113-0', usage_metadata={'input_tokens': 2933, 'output_tokens': 13, 'total_tokens': 2946})]}"
      ]
     },
     "execution_count": 13,
     "metadata": {},
     "output_type": "execute_result"
    }
   ],
   "source": [
    "response"
   ]
  },
  {
   "cell_type": "code",
   "execution_count": 11,
   "id": "f9333a49",
   "metadata": {},
   "outputs": [
    {
     "data": {
      "image/png": "[encoded data removed]",
      "text/plain": [
       "<IPython.core.display.Image object>"
      ]
     },
     "metadata": {},
     "output_type": "display_data"
    }
   ],
   "source": [
    "from langgraph.checkpoint.memory import MemorySaver\n",
    "\n",
    "memory = MemorySaver()\n",
    "\n",
    "graph_builder=StateGraph(State)\n",
    "\n",
    "##Adding node to the graph\n",
    "graph_builder.add_node(\"llmchatbot\",chatbot)\n",
    "##Adding edge to the graph\n",
    "graph_builder.add_edge(START,\"llmchatbot\")\n",
    "graph_builder.add_edge(\"llmchatbot\",END)\n",
    "\n",
    "##Compile the graph\n",
    "graph=graph_builder.compile(checkpointer=memory)\n",
    "\n",
    "from IPython.display import Image, display\n",
    "\n",
    "display(Image(graph.get_graph().draw_mermaid_png()))\n",
    "\n"
   ]
  },
  {
   "cell_type": "code",
   "execution_count": 14,
   "id": "2cf0bd7e",
   "metadata": {},
   "outputs": [
    {
     "name": "stdout",
     "output_type": "stream",
     "text": [
      "{'llmchatbot': {'messages': [AIMessage(content=\"Nice to meet you, Akshay! Cricket is a great sport, isn't it? Do you have a favorite team or player?\", additional_kwargs={}, response_metadata={'token_usage': {'completion_tokens': 29, 'prompt_tokens': 22, 'total_tokens': 51, 'completion_time': 0.086328937, 'prompt_time': 0.013777467, 'queue_time': 0.264655214, 'total_time': 0.100106404}, 'model_name': 'llama3-8b-8192', 'system_fingerprint': 'fp_5b339000ab', 'service_tier': 'on_demand', 'finish_reason': 'stop', 'logprobs': None}, id='run--d066c216-1dcb-44ad-97a3-d0c61ffdfdbb-0', usage_metadata={'input_tokens': 22, 'output_tokens': 29, 'total_tokens': 51})]}}\n"
     ]
    }
   ],
   "source": [
    "config={\"configurable\" : {\"thread_id\":\"2\"}}\n",
    "for chunk in graph.stream({\"messages\":\"Hi, my name is Akshay and I like cricket\"},config,stream_mode=\"updates\"):\n",
    "    print(chunk)"
   ]
  },
  {
   "cell_type": "code",
   "execution_count": 16,
   "id": "a3a95822",
   "metadata": {},
   "outputs": [
    {
     "name": "stdout",
     "output_type": "stream",
     "text": [
      "{'messages': [HumanMessage(content='Hi, my name is Akshay and I like cricket', additional_kwargs={}, response_metadata={}, id='ad7aa783-afcb-4dca-bfb4-f8bcecba1d55'), AIMessage(content=\"Nice to meet you, Akshay! Cricket is a great sport, isn't it? Do you have a favorite team or player?\", additional_kwargs={}, response_metadata={'token_usage': {'completion_tokens': 29, 'prompt_tokens': 22, 'total_tokens': 51, 'completion_time': 0.086328937, 'prompt_time': 0.013777467, 'queue_time': 0.264655214, 'total_time': 0.100106404}, 'model_name': 'llama3-8b-8192', 'system_fingerprint': 'fp_5b339000ab', 'service_tier': 'on_demand', 'finish_reason': 'stop', 'logprobs': None}, id='run--d066c216-1dcb-44ad-97a3-d0c61ffdfdbb-0', usage_metadata={'input_tokens': 22, 'output_tokens': 29, 'total_tokens': 51}), HumanMessage(content='Hi, my name is Akshay and I like cricket', additional_kwargs={}, response_metadata={}, id='9df283df-cc0b-4af1-a63c-a743b825f4f2'), AIMessage(content=\"Nice to meet you, Akshay! Cricket is a great sport, isn't it? Do you have a favorite team or player?\", additional_kwargs={}, response_metadata={'token_usage': {'completion_tokens': 29, 'prompt_tokens': 72, 'total_tokens': 101, 'completion_time': 0.029316395, 'prompt_time': 0.009050122, 'queue_time': 0.268722468, 'total_time': 0.038366517}, 'model_name': 'llama3-8b-8192', 'system_fingerprint': 'fp_0fb809dba3', 'service_tier': 'on_demand', 'finish_reason': 'stop', 'logprobs': None}, id='run--55a386ad-8b7c-443e-b6c2-62a659a53812-0', usage_metadata={'input_tokens': 72, 'output_tokens': 29, 'total_tokens': 101}), HumanMessage(content='I also like badminton', additional_kwargs={}, response_metadata={}, id='e79cc255-480c-4ebf-8250-a2c2aa03e425')]}\n",
      "{'messages': [HumanMessage(content='Hi, my name is Akshay and I like cricket', additional_kwargs={}, response_metadata={}, id='ad7aa783-afcb-4dca-bfb4-f8bcecba1d55'), AIMessage(content=\"Nice to meet you, Akshay! Cricket is a great sport, isn't it? Do you have a favorite team or player?\", additional_kwargs={}, response_metadata={'token_usage': {'completion_tokens': 29, 'prompt_tokens': 22, 'total_tokens': 51, 'completion_time': 0.086328937, 'prompt_time': 0.013777467, 'queue_time': 0.264655214, 'total_time': 0.100106404}, 'model_name': 'llama3-8b-8192', 'system_fingerprint': 'fp_5b339000ab', 'service_tier': 'on_demand', 'finish_reason': 'stop', 'logprobs': None}, id='run--d066c216-1dcb-44ad-97a3-d0c61ffdfdbb-0', usage_metadata={'input_tokens': 22, 'output_tokens': 29, 'total_tokens': 51}), HumanMessage(content='Hi, my name is Akshay and I like cricket', additional_kwargs={}, response_metadata={}, id='9df283df-cc0b-4af1-a63c-a743b825f4f2'), AIMessage(content=\"Nice to meet you, Akshay! Cricket is a great sport, isn't it? Do you have a favorite team or player?\", additional_kwargs={}, response_metadata={'token_usage': {'completion_tokens': 29, 'prompt_tokens': 72, 'total_tokens': 101, 'completion_time': 0.029316395, 'prompt_time': 0.009050122, 'queue_time': 0.268722468, 'total_time': 0.038366517}, 'model_name': 'llama3-8b-8192', 'system_fingerprint': 'fp_0fb809dba3', 'service_tier': 'on_demand', 'finish_reason': 'stop', 'logprobs': None}, id='run--55a386ad-8b7c-443e-b6c2-62a659a53812-0', usage_metadata={'input_tokens': 72, 'output_tokens': 29, 'total_tokens': 101}), HumanMessage(content='I also like badminton', additional_kwargs={}, response_metadata={}, id='e79cc255-480c-4ebf-8250-a2c2aa03e425'), AIMessage(content='Great combination! Cricket and badminton are both exciting sports. Do you play either of them regularly, or are you more of a fan who enjoys watching and following the matches?', additional_kwargs={}, response_metadata={'token_usage': {'completion_tokens': 37, 'prompt_tokens': 116, 'total_tokens': 153, 'completion_time': 0.081531958, 'prompt_time': 0.016207041, 'queue_time': 0.264643838, 'total_time': 0.097738999}, 'model_name': 'llama3-8b-8192', 'system_fingerprint': 'fp_5b339000ab', 'service_tier': 'on_demand', 'finish_reason': 'stop', 'logprobs': None}, id='run--78bea329-d384-4f34-a640-4d363e9a703e-0', usage_metadata={'input_tokens': 116, 'output_tokens': 37, 'total_tokens': 153})]}\n"
     ]
    }
   ],
   "source": [
    "config={\"configurable\" : {\"thread_id\":\"2\"}}\n",
    "for chunk in graph.stream({\"messages\":\"I also like badminton\"},config,stream_mode=\"values\"):\n",
    "    print(chunk)"
   ]
  }
 ],
 "metadata": {
  "kernelspec": {
   "display_name": "langchain_ai_python",
   "language": "python",
   "name": "python3"
  },
  "language_info": {
   "codemirror_mode": {
    "name": "ipython",
    "version": 3
   },
   "file_extension": ".py",
   "mimetype": "text/x-python",
   "name": "python",
   "nbconvert_exporter": "python",
   "pygments_lexer": "ipython3",
   "version": "3.10.5"
  }
 },
 "nbformat": 4,
 "nbformat_minor": 5
}
